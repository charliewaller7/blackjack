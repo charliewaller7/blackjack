{
 "cells": [
  {
   "cell_type": "code",
   "execution_count": 1,
   "metadata": {},
   "outputs": [
    {
     "data": {
      "text/html": [
       "        <script type=\"text/javascript\">\n",
       "        window.PlotlyConfig = {MathJaxConfig: 'local'};\n",
       "        if (window.MathJax) {MathJax.Hub.Config({SVG: {font: \"STIX-Web\"}});}\n",
       "        if (typeof require !== 'undefined') {\n",
       "        require.undef(\"plotly\");\n",
       "        requirejs.config({\n",
       "            paths: {\n",
       "                'plotly': ['https://cdn.plot.ly/plotly-latest.min']\n",
       "            }\n",
       "        });\n",
       "        require(['plotly'], function(Plotly) {\n",
       "            window._Plotly = Plotly;\n",
       "        });\n",
       "        }\n",
       "        </script>\n",
       "        "
      ]
     },
     "metadata": {},
     "output_type": "display_data"
    },
    {
     "data": {
      "text/html": [
       "        <script type=\"text/javascript\">\n",
       "        window.PlotlyConfig = {MathJaxConfig: 'local'};\n",
       "        if (window.MathJax) {MathJax.Hub.Config({SVG: {font: \"STIX-Web\"}});}\n",
       "        if (typeof require !== 'undefined') {\n",
       "        require.undef(\"plotly\");\n",
       "        requirejs.config({\n",
       "            paths: {\n",
       "                'plotly': ['https://cdn.plot.ly/plotly-latest.min']\n",
       "            }\n",
       "        });\n",
       "        require(['plotly'], function(Plotly) {\n",
       "            window._Plotly = Plotly;\n",
       "        });\n",
       "        }\n",
       "        </script>\n",
       "        "
      ]
     },
     "metadata": {},
     "output_type": "display_data"
    }
   ],
   "source": [
    "from game_objects.table import *\n",
    "from refs.functions import *\n",
    "from refs.visualisation import *"
   ]
  },
  {
   "cell_type": "code",
   "execution_count": 4,
   "metadata": {},
   "outputs": [
    {
     "data": {
      "text/plain": [
       "\"Player 'paul' added.\""
      ]
     },
     "execution_count": 4,
     "metadata": {},
     "output_type": "execute_result"
    }
   ],
   "source": [
    "table = Table(dealer_stick=17, no_of_decks=2)\n",
    "charlie = Player(name='charlie', budget=1000)\n",
    "molly = Player(name='molly', budget=1000)\n",
    "harry = Player(name='harry', budget=1000)\n",
    "simon = Player(name='simon', budget=1000)\n",
    "jackie = Player(name='jackie', budget=1000)\n",
    "paul = Player(name='paul', budget=1000)\n",
    "john = Player(name='john', budget=1000, card_counting=False)\n",
    "\n",
    "# for player in [charlie, molly, harry, simon, jackie, john, paul]:\n",
    "#     table.add_player(player)\n",
    "\n",
    "table.add_player(john)\n",
    "table.add_player(paul)\n"
   ]
  },
  {
   "cell_type": "code",
   "execution_count": 10,
   "metadata": {},
   "outputs": [],
   "source": [
    "for i in range(10000):\n",
    "    table.deck.shuffle()\n",
    "    table.deal_round()\n",
    "    table.all_turns()\n",
    "    table.clear_round()"
   ]
  },
  {
   "cell_type": "code",
   "execution_count": 11,
   "metadata": {
    "collapsed": true
   },
   "outputs": [],
   "source": [
    "plot(metric_cum_balance_by_player(table), notebook=False)"
   ]
  },
  {
   "cell_type": "code",
   "execution_count": 7,
   "metadata": {},
   "outputs": [
    {
     "name": "stdout",
     "output_type": "stream",
     "text": [
      "Player 1: john\n",
      "Player hand:\n",
      "cards: ['5-S', 'J-S', '6-D'] value:21  Stood:True\n",
      "Dealer hand: ['10-D', 'K-H'] (20)\n",
      "Balance: £1055.1777975050602 (£55.1777975050602 up)\n",
      "------------------------\n",
      "Player 2: paul\n",
      "Player hand:\n",
      "cards: ['A-C', '2-S', 'A-C'] value:4  Stood:False\n",
      "Dealer hand: ['10-D', 'K-H'] (20)\n",
      "Balance: £1052.165932844594 (£52.165932844593954 up)\n",
      "------------------------\n",
      "Player 1: john\n",
      "Player hand:\n",
      "cards: ['K-D', '2-S'] value:12  Stood:False\n",
      "Dealer hand: ['7-C', 'J-D'] (17)\n",
      "Balance: £1055.1777975050602 (£55.1777975050602 up)\n",
      "------------------------\n",
      "Player 2: paul\n",
      "Player hand:\n",
      "cards: ['K-S', '7-S'] value:17  Stood:False\n",
      "Dealer hand: ['7-C', 'J-D'] (17)\n",
      "Balance: £1052.165932844594 (£52.165932844593954 up)\n",
      "------------------------\n",
      "Player 1: john\n",
      "Player hand:\n",
      "cards: ['K-D', '2-S', '9-S'] value:21  Stood:True\n",
      "Dealer hand: ['7-C', 'J-D'] (17)\n",
      "Balance: £1055.1777975050602 (£55.1777975050602 up)\n",
      "------------------------\n",
      "Player 2: paul\n",
      "Player hand:\n",
      "cards: ['K-S', '7-S'] value:17  Stood:True\n",
      "Dealer hand: ['7-C', 'J-D'] (17)\n",
      "Balance: £1052.165932844594 (£52.165932844593954 up)\n",
      "------------------------\n",
      "Player 1: john\n",
      "Player hand:\n",
      "cards: [] value:0  Stood:False\n",
      "Dealer hand: [] (0)\n",
      "Balance: £1065.7295754801107 (£65.72957548011073 up)\n",
      "------------------------\n",
      "Player 2: paul\n",
      "Player hand:\n",
      "cards: [] value:0  Stood:False\n",
      "Dealer hand: [] (0)\n",
      "Balance: £1052.165932844594 (£52.165932844593954 up)\n",
      "------------------------\n"
     ]
    }
   ],
   "source": [
    "table.deck.shuffle()\n",
    "table.player_summary()\n",
    "table.deal_round()\n",
    "table.player_summary()\n",
    "table.all_turns()\n",
    "table.player_summary()\n",
    "table.clear_round()\n",
    "table.player_summary()"
   ]
  },
  {
   "cell_type": "code",
   "execution_count": null,
   "metadata": {
    "collapsed": true
   },
   "outputs": [],
   "source": []
  }
 ],
 "metadata": {
  "kernelspec": {
   "display_name": "Python 3",
   "language": "python",
   "name": "python3"
  },
  "language_info": {
   "codemirror_mode": {
    "name": "ipython",
    "version": 3
   },
   "file_extension": ".py",
   "mimetype": "text/x-python",
   "name": "python",
   "nbconvert_exporter": "python",
   "pygments_lexer": "ipython3",
   "version": "3.6.3"
  }
 },
 "nbformat": 4,
 "nbformat_minor": 2
}
